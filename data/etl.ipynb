{
 "cells": [
  {
   "cell_type": "code",
   "execution_count": 1,
   "metadata": {},
   "outputs": [],
   "source": [
    "import pandas as pd"
   ]
  },
  {
   "cell_type": "code",
   "execution_count": 2,
   "metadata": {},
   "outputs": [],
   "source": [
    "fake_news_df = pd.DataFrame(dict(title=[], isFakeNews=[], src=[]))\n"
   ]
  },
  {
   "cell_type": "markdown",
   "metadata": {},
   "source": [
    "## COVID-19-rumor-dataset"
   ]
  },
  {
   "cell_type": "code",
   "execution_count": 3,
   "metadata": {},
   "outputs": [],
   "source": [
    "covid_rumour_df = pd.read_csv('COVID-19-rumor-dataset/en_dup.csv')\n",
    "covid_rumour_df = covid_rumour_df[~(covid_rumour_df['label'] == 'U')] # Drop Unknown Label\n",
    "covid_rumour_df['label'] = covid_rumour_df['label']  == 'F' # return True if is Fake\n",
    "covid_rumour_df['src'] = 'COVID-19-rumor-dataset' # define src\n",
    "covid_rumour_df = covid_rumour_df[['label', 'content', 'src']].rename(columns={'label':'isFakeNews','content':'title'}) # filter and rename columns\n",
    "\n",
    "fake_news_df = fake_news_df.append(covid_rumour_df)"
   ]
  },
  {
   "cell_type": "markdown",
   "metadata": {},
   "source": [
    "## FakeNewsNet"
   ]
  },
  {
   "cell_type": "code",
   "execution_count": 4,
   "metadata": {},
   "outputs": [],
   "source": [
    "politifact_real_df = pd.read_csv(\"FakeNewsNet/politifact_real.csv\")\n",
    "politifact_fake_df = pd.read_csv(\"FakeNewsNet/politifact_fake.csv\")\n",
    "\n",
    "politifact_real_df['isFakeNews'] = False\n",
    "politifact_fake_df['isFakeNews'] = True\n",
    "\n",
    "politifact_df = politifact_real_df.append(politifact_fake_df)\n",
    "politifact_df['src'] = 'FakeNewsNet/politifact'\n",
    "fake_news_df = fake_news_df.append(politifact_df[['title', 'isFakeNews', 'src']])"
   ]
  },
  {
   "cell_type": "code",
   "execution_count": 5,
   "metadata": {},
   "outputs": [],
   "source": [
    "gossipcop_real_df = pd.read_csv(\"FakeNewsNet/gossipcop_real.csv\")\n",
    "gossipcop_fake_df = pd.read_csv(\"FakeNewsNet/gossipcop_fake.csv\")\n",
    "\n",
    "gossipcop_real_df['isFakeNews'] = False\n",
    "gossipcop_fake_df['isFakeNews'] = True\n",
    "\n",
    "gossipcop_df = gossipcop_real_df.append(gossipcop_fake_df)\n",
    "gossipcop_df['src'] = 'FakeNewsNet/gossipcop'\n",
    "fake_news_df = fake_news_df.append(gossipcop_df[['title', 'isFakeNews', 'src']])"
   ]
  },
  {
   "cell_type": "markdown",
   "metadata": {},
   "source": [
    "## Fake-and-real-news-dataset"
   ]
  },
  {
   "cell_type": "code",
   "execution_count": 6,
   "metadata": {},
   "outputs": [],
   "source": [
    "fake_df = pd.read_csv('Fake-and-real-news-dataset/Fake.csv')\n",
    "true_df = pd.read_csv('Fake-and-real-news-dataset/True.csv')\n",
    "\n",
    "fake_df['isFakeNews'] = True\n",
    "true_df['isFakeNews'] = False\n",
    "fake_df['src'] = 'Fake-and-real-news-dataset'\n",
    "true_df['src'] = 'Fake-and-real-news-dataset'\n",
    "\n",
    "fake_news_df = fake_news_df\\\n",
    "                    .append(fake_df[['title', 'isFakeNews', 'src']])\\\n",
    "                    .append(true_df[['title', 'isFakeNews', 'src']])"
   ]
  },
  {
   "cell_type": "markdown",
   "metadata": {},
   "source": [
    "## FakeCovid"
   ]
  },
  {
   "cell_type": "code",
   "execution_count": 41,
   "metadata": {},
   "outputs": [],
   "source": [
    "fakeCoviddf_jun = pd.read_csv(\"FakeCovid/FakeCovid_June2020.csv\")\n",
    "fakeCoviddf_jul = pd.read_csv(\"FakeCovid/FakeCovid_July2020.csv\")\n",
    "\n",
    "fakeCoviddf_jun = fakeCoviddf_jun[fakeCoviddf_jun['lang'] == 'English'].copy()\n",
    "fakeCoviddf_jul = fakeCoviddf_jul[fakeCoviddf_jul['lang'] == 'en'].copy()\n",
    "\n",
    "fakeCoviddf_jun.loc[fakeCoviddf_jun['class'] == 'TRUE', 'isFakeNews'] = False\n",
    "fakeCoviddf_jul.loc[fakeCoviddf_jul['class'].str.lower().str.contains(\"true\"), 'isFakeNews'] = False\n",
    "\n",
    "fakeCoviddf_jun['isFakeNews'].fillna(True, inplace = True)\n",
    "fakeCoviddf_jul['isFakeNews'].fillna(True, inplace = True)\n",
    "fakeCoviddf_jun['src'] = 'FakeCovid'\n",
    "fakeCoviddf_jul['src'] = 'FakeCovid'\n",
    "\n",
    "fake_news_df = fake_news_df\\\n",
    "                    .append(fakeCoviddf_jun[['ref_title', 'isFakeNews','src']])\\\n",
    "                    .append(fakeCoviddf_jul[['ref_title', 'isFakeNews','src']])"
   ]
  },
  {
   "cell_type": "code",
   "execution_count": 7,
   "metadata": {},
   "outputs": [],
   "source": [
    "fake_news_df.to_csv(\"fakeNews.csv\", index=False)"
   ]
  }
 ],
 "metadata": {
  "interpreter": {
   "hash": "64a5f636710f2f9f411a4eced7eb9d8b6c221a052bdf8367f0aa559cf754e494"
  },
  "kernelspec": {
   "display_name": "Python 3.6.13 64-bit ('ask-covid': conda)",
   "name": "python3"
  },
  "language_info": {
   "codemirror_mode": {
    "name": "ipython",
    "version": 3
   },
   "file_extension": ".py",
   "mimetype": "text/x-python",
   "name": "python",
   "nbconvert_exporter": "python",
   "pygments_lexer": "ipython3",
   "version": "3.6.13"
  },
  "orig_nbformat": 4
 },
 "nbformat": 4,
 "nbformat_minor": 2
}
