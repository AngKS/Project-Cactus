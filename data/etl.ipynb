{
 "cells": [
  {
   "cell_type": "code",
   "execution_count": 1,
   "metadata": {},
   "outputs": [],
   "source": [
    "import pandas as pd"
   ]
  },
  {
   "cell_type": "code",
   "execution_count": 25,
   "metadata": {},
   "outputs": [],
   "source": [
    "fake_news_df = pd.DataFrame(dict(title=[], isFakeNews=[], src=[]))\n"
   ]
  },
  {
   "cell_type": "code",
   "execution_count": 33,
   "metadata": {},
   "outputs": [],
   "source": [
    "covid_rumour_df = pd.read_csv('COVID-19-rumor-dataset/en_dup.csv')\n",
    "covid_rumour_df = covid_rumour_df[~(covid_rumour_df['label'] == 'U')] # Drop Unknown Label\n",
    "covid_rumour_df['label'] = covid_rumour_df['label']  == 'F' # return True if is Fake\n",
    "covid_rumour_df['src'] = 'COVID-19-rumor-dataset' # define src\n",
    "covid_rumour_df = covid_rumour_df[['label', 'content', 'src']].rename(columns={'label':'isFakeNews','content':'title'}) # filter and rename columns\n",
    "\n",
    "fake_news_df = fake_news_df.append(covid_rumour_df)"
   ]
  },
  {
   "cell_type": "code",
   "execution_count": null,
   "metadata": {},
   "outputs": [],
   "source": []
  }
 ],
 "metadata": {
  "interpreter": {
   "hash": "64a5f636710f2f9f411a4eced7eb9d8b6c221a052bdf8367f0aa559cf754e494"
  },
  "kernelspec": {
   "display_name": "Python 3.6.13 64-bit ('ask-covid': conda)",
   "name": "python3"
  },
  "language_info": {
   "codemirror_mode": {
    "name": "ipython",
    "version": 3
   },
   "file_extension": ".py",
   "mimetype": "text/x-python",
   "name": "python",
   "nbconvert_exporter": "python",
   "pygments_lexer": "ipython3",
   "version": "3.6.13"
  },
  "orig_nbformat": 4
 },
 "nbformat": 4,
 "nbformat_minor": 2
}
