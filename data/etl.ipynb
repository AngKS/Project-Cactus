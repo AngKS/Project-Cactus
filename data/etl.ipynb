{
 "cells": [
  {
   "cell_type": "code",
   "execution_count": 1,
   "metadata": {},
   "outputs": [],
   "source": [
    "import pandas as pd"
   ]
  },
  {
   "cell_type": "code",
   "execution_count": 2,
   "metadata": {},
   "outputs": [],
   "source": [
    "fake_news_df = pd.DataFrame(dict(title=[], isFakeNews=[], src=[]))\n"
   ]
  },
  {
   "cell_type": "markdown",
   "metadata": {},
   "source": [
    "## COVID-19-rumor-dataset"
   ]
  },
  {
   "cell_type": "code",
   "execution_count": 3,
   "metadata": {},
   "outputs": [],
   "source": [
    "covid_rumour_df = pd.read_csv('COVID-19-rumor-dataset/en_dup.csv')\n",
    "covid_rumour_df = covid_rumour_df[~(covid_rumour_df['label'] == 'U')] # Drop Unknown Label\n",
    "covid_rumour_df['label'] = covid_rumour_df['label']  == 'F' # return True if is Fake\n",
    "covid_rumour_df['src'] = 'COVID-19-rumor-dataset' # define src\n",
    "covid_rumour_df = covid_rumour_df[['label', 'content', 'src']].rename(columns={'label':'isFakeNews','content':'title'}) # filter and rename columns\n",
    "\n",
    "fake_news_df = fake_news_df.append(covid_rumour_df)"
   ]
  },
  {
   "cell_type": "markdown",
   "metadata": {},
   "source": [
    "## FakeNewsNet"
   ]
  },
  {
   "cell_type": "code",
   "execution_count": 4,
   "metadata": {},
   "outputs": [],
   "source": [
    "politifact_real_df = pd.read_csv(\"FakeNewsNet/politifact_real.csv\")\n",
    "politifact_fake_df = pd.read_csv(\"FakeNewsNet/politifact_fake.csv\")\n",
    "\n",
    "politifact_real_df['isFakeNews'] = False\n",
    "politifact_fake_df['isFakeNews'] = True\n",
    "\n",
    "politifact_df = politifact_real_df.append(politifact_fake_df)\n",
    "politifact_df['src'] = 'FakeNewsNet/politifact'\n",
    "fake_news_df = fake_news_df.append(politifact_df[['title', 'isFakeNews', 'src']])"
   ]
  },
  {
   "cell_type": "code",
   "execution_count": 5,
   "metadata": {},
   "outputs": [],
   "source": [
    "gossipcop_real_df = pd.read_csv(\"FakeNewsNet/gossipcop_real.csv\")\n",
    "gossipcop_fake_df = pd.read_csv(\"FakeNewsNet/gossipcop_fake.csv\")\n",
    "\n",
    "gossipcop_real_df['isFakeNews'] = False\n",
    "gossipcop_fake_df['isFakeNews'] = True\n",
    "\n",
    "gossipcop_df = gossipcop_real_df.append(gossipcop_fake_df)\n",
    "gossipcop_df['src'] = 'FakeNewsNet/gossipcop'\n",
    "fake_news_df = fake_news_df.append(gossipcop_df[['title', 'isFakeNews', 'src']])"
   ]
  },
  {
   "cell_type": "markdown",
   "metadata": {},
   "source": [
    "## Fake-and-real-news-dataset"
   ]
  },
  {
   "cell_type": "code",
   "execution_count": 11,
   "metadata": {},
   "outputs": [
    {
     "data": {
      "text/html": [
       "<div>\n",
       "<style scoped>\n",
       "    .dataframe tbody tr th:only-of-type {\n",
       "        vertical-align: middle;\n",
       "    }\n",
       "\n",
       "    .dataframe tbody tr th {\n",
       "        vertical-align: top;\n",
       "    }\n",
       "\n",
       "    .dataframe thead th {\n",
       "        text-align: right;\n",
       "    }\n",
       "</style>\n",
       "<table border=\"1\" class=\"dataframe\">\n",
       "  <thead>\n",
       "    <tr style=\"text-align: right;\">\n",
       "      <th></th>\n",
       "      <th>title</th>\n",
       "      <th>isFakeNews</th>\n",
       "      <th>src</th>\n",
       "    </tr>\n",
       "  </thead>\n",
       "  <tbody>\n",
       "    <tr>\n",
       "      <th>0</th>\n",
       "      <td>Donald Trump Sends Out Embarrassing New Year’...</td>\n",
       "      <td>True</td>\n",
       "      <td>Fake-and-real-news-dataset</td>\n",
       "    </tr>\n",
       "    <tr>\n",
       "      <th>1</th>\n",
       "      <td>Drunk Bragging Trump Staffer Started Russian ...</td>\n",
       "      <td>True</td>\n",
       "      <td>Fake-and-real-news-dataset</td>\n",
       "    </tr>\n",
       "    <tr>\n",
       "      <th>2</th>\n",
       "      <td>Sheriff David Clarke Becomes An Internet Joke...</td>\n",
       "      <td>True</td>\n",
       "      <td>Fake-and-real-news-dataset</td>\n",
       "    </tr>\n",
       "    <tr>\n",
       "      <th>3</th>\n",
       "      <td>Trump Is So Obsessed He Even Has Obama’s Name...</td>\n",
       "      <td>True</td>\n",
       "      <td>Fake-and-real-news-dataset</td>\n",
       "    </tr>\n",
       "    <tr>\n",
       "      <th>4</th>\n",
       "      <td>Pope Francis Just Called Out Donald Trump Dur...</td>\n",
       "      <td>True</td>\n",
       "      <td>Fake-and-real-news-dataset</td>\n",
       "    </tr>\n",
       "    <tr>\n",
       "      <th>...</th>\n",
       "      <td>...</td>\n",
       "      <td>...</td>\n",
       "      <td>...</td>\n",
       "    </tr>\n",
       "    <tr>\n",
       "      <th>23476</th>\n",
       "      <td>McPain: John McCain Furious That Iran Treated ...</td>\n",
       "      <td>True</td>\n",
       "      <td>Fake-and-real-news-dataset</td>\n",
       "    </tr>\n",
       "    <tr>\n",
       "      <th>23477</th>\n",
       "      <td>JUSTICE? Yahoo Settles E-mail Privacy Class-ac...</td>\n",
       "      <td>True</td>\n",
       "      <td>Fake-and-real-news-dataset</td>\n",
       "    </tr>\n",
       "    <tr>\n",
       "      <th>23478</th>\n",
       "      <td>Sunnistan: US and Allied ‘Safe Zone’ Plan to T...</td>\n",
       "      <td>True</td>\n",
       "      <td>Fake-and-real-news-dataset</td>\n",
       "    </tr>\n",
       "    <tr>\n",
       "      <th>23479</th>\n",
       "      <td>How to Blow $700 Million: Al Jazeera America F...</td>\n",
       "      <td>True</td>\n",
       "      <td>Fake-and-real-news-dataset</td>\n",
       "    </tr>\n",
       "    <tr>\n",
       "      <th>23480</th>\n",
       "      <td>10 U.S. Navy Sailors Held by Iranian Military ...</td>\n",
       "      <td>True</td>\n",
       "      <td>Fake-and-real-news-dataset</td>\n",
       "    </tr>\n",
       "  </tbody>\n",
       "</table>\n",
       "<p>23481 rows × 3 columns</p>\n",
       "</div>"
      ],
      "text/plain": [
       "                                                   title  isFakeNews  \\\n",
       "0       Donald Trump Sends Out Embarrassing New Year’...        True   \n",
       "1       Drunk Bragging Trump Staffer Started Russian ...        True   \n",
       "2       Sheriff David Clarke Becomes An Internet Joke...        True   \n",
       "3       Trump Is So Obsessed He Even Has Obama’s Name...        True   \n",
       "4       Pope Francis Just Called Out Donald Trump Dur...        True   \n",
       "...                                                  ...         ...   \n",
       "23476  McPain: John McCain Furious That Iran Treated ...        True   \n",
       "23477  JUSTICE? Yahoo Settles E-mail Privacy Class-ac...        True   \n",
       "23478  Sunnistan: US and Allied ‘Safe Zone’ Plan to T...        True   \n",
       "23479  How to Blow $700 Million: Al Jazeera America F...        True   \n",
       "23480  10 U.S. Navy Sailors Held by Iranian Military ...        True   \n",
       "\n",
       "                              src  \n",
       "0      Fake-and-real-news-dataset  \n",
       "1      Fake-and-real-news-dataset  \n",
       "2      Fake-and-real-news-dataset  \n",
       "3      Fake-and-real-news-dataset  \n",
       "4      Fake-and-real-news-dataset  \n",
       "...                           ...  \n",
       "23476  Fake-and-real-news-dataset  \n",
       "23477  Fake-and-real-news-dataset  \n",
       "23478  Fake-and-real-news-dataset  \n",
       "23479  Fake-and-real-news-dataset  \n",
       "23480  Fake-and-real-news-dataset  \n",
       "\n",
       "[23481 rows x 3 columns]"
      ]
     },
     "execution_count": 11,
     "metadata": {},
     "output_type": "execute_result"
    }
   ],
   "source": [
    "fake_df = pd.read_csv('Fake-and-real-news-dataset/Fake.csv')\n",
    "true_df = pd.read_csv('Fake-and-real-news-dataset/True.csv')\n",
    "\n",
    "fake_df['isFakeNews'] = True\n",
    "true_df['isFakeNews'] = False\n",
    "fake_df['src'] = 'Fake-and-real-news-dataset'\n",
    "true_df['src'] = 'Fake-and-real-news-dataset'\n",
    "\n",
    "fake_news_df = fake_news_df.append(fake_df[['title', 'isFakeNews', 'src']])\n",
    "fake_news_df = fake_news_df.append(true_df[['title', 'isFakeNews', 'src']])"
   ]
  },
  {
   "cell_type": "code",
   "execution_count": 14,
   "metadata": {},
   "outputs": [],
   "source": [
    "fake_news_df.to_csv(\"fakeNews.csv\", index=False)"
   ]
  }
 ],
 "metadata": {
  "interpreter": {
   "hash": "64a5f636710f2f9f411a4eced7eb9d8b6c221a052bdf8367f0aa559cf754e494"
  },
  "kernelspec": {
   "display_name": "Python 3.6.13 64-bit ('ask-covid': conda)",
   "name": "python3"
  },
  "language_info": {
   "codemirror_mode": {
    "name": "ipython",
    "version": 3
   },
   "file_extension": ".py",
   "mimetype": "text/x-python",
   "name": "python",
   "nbconvert_exporter": "python",
   "pygments_lexer": "ipython3",
   "version": "3.6.13"
  },
  "orig_nbformat": 4
 },
 "nbformat": 4,
 "nbformat_minor": 2
}
